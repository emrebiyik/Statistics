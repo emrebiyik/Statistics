{
 "cells": [
  {
   "cell_type": "markdown",
   "id": "e1a1d35f-38f0-427a-994a-858f9d8cd495",
   "metadata": {
    "tags": []
   },
   "source": [
    "# Statistics Assignment-2 (CIs & Hypothesis) (DS-DE 08 TR)"
   ]
  },
  {
   "cell_type": "code",
   "execution_count": 57,
   "id": "5ec18414-01d7-4f93-8f67-3d8d06a17aa2",
   "metadata": {
    "tags": []
   },
   "outputs": [],
   "source": [
    "import pandas as pd\n",
    "import numpy as np\n",
    "from scipy import stats\n",
    "import matplotlib.pyplot as plt"
   ]
  },
  {
   "cell_type": "markdown",
   "id": "cc60931d-33eb-40b5-a73d-04b3a7c92c3d",
   "metadata": {},
   "source": [
    "## CONFIDENCE INTERVALS"
   ]
  },
  {
   "cell_type": "markdown",
   "id": "928b63fb-1670-492c-a67a-467c2989b954",
   "metadata": {},
   "source": [
    "### EXERCISE 1. What is the normal body temperature for healthy humans? A random sample of 130 healthy human body temperatures provided by Allen Shoemaker yielded 98.25 degrees and standard deviation 0.73 degrees. \n",
    "\n",
    "### Give a 99% confidence interval for the average body temperature of healthy people."
   ]
  },
  {
   "cell_type": "markdown",
   "id": "85d4693b-b005-400a-8af3-f4dfff95c015",
   "metadata": {
    "id": "DuDelLV0Npvr"
   },
   "source": [
    "<img src=https://i.ibb.co/rpzg7MM/ci.png width=\"450\" height=\"200\">\n",
    "\n",
    "<img src=https://i.ibb.co/tpfSzrY/ci1.png width=\"450\" height=\"200\">"
   ]
  },
  {
   "cell_type": "markdown",
   "id": "4494b2fb-b753-419d-b6e5-8c23193ede9f",
   "metadata": {},
   "source": [
    "Sample mean (xbar) = 98.25 degrees\n",
    "Sample standard deviation (s) = 0.73 degrees\n",
    "Sample size (n) = 130\n",
    "Confidence level = 99%"
   ]
  },
  {
   "cell_type": "code",
   "execution_count": 6,
   "id": "181482da-1de5-47d4-a5dc-f8d77f1030df",
   "metadata": {},
   "outputs": [
    {
     "data": {
      "text/plain": [
       "2.5758293035489004"
      ]
     },
     "execution_count": 6,
     "metadata": {},
     "output_type": "execute_result"
    }
   ],
   "source": [
    "z_score = stats.norm.ppf((1 + confidence_level) / 2)\n",
    "z_score"
   ]
  },
  {
   "cell_type": "code",
   "execution_count": 7,
   "id": "3e06663a-5b07-49fe-aa7b-1f4261dc92c3",
   "metadata": {},
   "outputs": [
    {
     "data": {
      "text/plain": [
       "0.16491807753418303"
      ]
     },
     "execution_count": 7,
     "metadata": {},
     "output_type": "execute_result"
    }
   ],
   "source": [
    "margin_of_error = z_score * (sample_std / (sample_size ** 0.5))\n",
    "margin_of_error"
   ]
  },
  {
   "cell_type": "code",
   "execution_count": 8,
   "id": "1db5f0d3-6dbc-42be-939a-0aefdf586410",
   "metadata": {},
   "outputs": [
    {
     "data": {
      "text/plain": [
       "98.08508192246582"
      ]
     },
     "execution_count": 8,
     "metadata": {},
     "output_type": "execute_result"
    }
   ],
   "source": [
    "lower_lim = sample_mean - margin_of_error\n",
    "lower_lim"
   ]
  },
  {
   "cell_type": "code",
   "execution_count": 9,
   "id": "19da24b9-a83d-4dbc-94db-e6e5e5c6ce81",
   "metadata": {},
   "outputs": [
    {
     "data": {
      "text/plain": [
       "98.41491807753418"
      ]
     },
     "execution_count": 9,
     "metadata": {},
     "output_type": "execute_result"
    }
   ],
   "source": [
    "upper_lim = sample_mean + margin_of_error\n",
    "upper_lim"
   ]
  },
  {
   "cell_type": "code",
   "execution_count": 12,
   "id": "e95f5178-0680-473d-9ba7-46945f77bb7b",
   "metadata": {},
   "outputs": [
    {
     "name": "stdout",
     "output_type": "stream",
     "text": [
      "99% confidence interval for the average body temperature of healthy people:\n",
      "(98.085, 98.415) degrees\n"
     ]
    }
   ],
   "source": [
    "print(\"99% confidence interval for the average body temperature of healthy people:\")\n",
    "print(f\"({lower_lim:.3f}, {upper_lim:.3f}) degrees\")"
   ]
  },
  {
   "cell_type": "markdown",
   "id": "018a5ebc-3f3e-4fa6-b9d1-b05bb4dced87",
   "metadata": {},
   "source": [
    "\n",
    "\n",
    "### EXERCISE 2. The administrators for a hospital wished to estimate the average number of days required for inpatient treatment of patients between the ages of 25 and 34. A random sample of 500 hospital patients between these ages produced a mean and standard deviation equal to 5.4 and 3.1 days, respectively.\n",
    "\n",
    "### Construct a 95% confidence interval for the mean length of stay for the population of patients from which the sample was drawn."
   ]
  },
  {
   "cell_type": "code",
   "execution_count": 17,
   "id": "d4525538-8912-4f08-bc91-7c17ecb1f59c",
   "metadata": {
    "tags": []
   },
   "outputs": [],
   "source": [
    "sample_mean = 5.4\n",
    "sample_std = 3.1\n",
    "sample_size = 500\n",
    "confidence_level = 0.95"
   ]
  },
  {
   "cell_type": "code",
   "execution_count": 18,
   "id": "53f83da0-4ec9-4116-a957-0ac11bf391db",
   "metadata": {
    "tags": []
   },
   "outputs": [
    {
     "data": {
      "text/plain": [
       "1.959963984540054"
      ]
     },
     "execution_count": 18,
     "metadata": {},
     "output_type": "execute_result"
    }
   ],
   "source": [
    "z_score = stats.norm.ppf((1 + confidence_level) / 2)\n",
    "z_score"
   ]
  },
  {
   "cell_type": "code",
   "execution_count": 19,
   "id": "3056c4f0-3ae1-43fd-9308-6b6cd25bc26f",
   "metadata": {
    "tags": []
   },
   "outputs": [
    {
     "data": {
      "text/plain": [
       "0.2717219875787403"
      ]
     },
     "execution_count": 19,
     "metadata": {},
     "output_type": "execute_result"
    }
   ],
   "source": [
    "margin_of_error = z_score * (sample_std / (sample_size ** 0.5))\n",
    "margin_of_error"
   ]
  },
  {
   "cell_type": "code",
   "execution_count": 20,
   "id": "a8c6861b-ead2-40f4-b6b2-58ed4f79a828",
   "metadata": {
    "tags": []
   },
   "outputs": [
    {
     "data": {
      "text/plain": [
       "5.12827801242126"
      ]
     },
     "execution_count": 20,
     "metadata": {},
     "output_type": "execute_result"
    }
   ],
   "source": [
    "lower_lim = sample_mean - margin_of_error\n",
    "lower_lim"
   ]
  },
  {
   "cell_type": "code",
   "execution_count": 21,
   "id": "0fd25e1a-e393-473d-9472-dd7c0e476684",
   "metadata": {
    "tags": []
   },
   "outputs": [
    {
     "data": {
      "text/plain": [
       "5.67172198757874"
      ]
     },
     "execution_count": 21,
     "metadata": {},
     "output_type": "execute_result"
    }
   ],
   "source": [
    "upper_lim = sample_mean + margin_of_error"
   ]
  },
  {
   "cell_type": "code",
   "execution_count": 24,
   "id": "692b04e3-f307-4ee7-8721-d3cebaa01fef",
   "metadata": {
    "tags": []
   },
   "outputs": [
    {
     "name": "stdout",
     "output_type": "stream",
     "text": [
      "95% confidence interval for the mean length of stay for the population:\n",
      "(98.085, 98.415) days\n"
     ]
    }
   ],
   "source": [
    "print(\"95% confidence interval for the mean length of stay for the population:\")\n",
    "print(f\"({lower_bound:.3f}, {upper_bound:.3f}) days\")"
   ]
  },
  {
   "cell_type": "markdown",
   "id": "3b809138-cad5-4e83-92d4-1d9cda8502c1",
   "metadata": {},
   "source": [
    "### HYPOTHESIS TESTING\n",
    "\n",
    "### EXERCISE 3. The hourly wages in a particular industry are normally distributed with mean $13.20 and standard deviation $2.50. A company in this industry employs 40 workers, paying them an average of $12.20 per hour. Can this company be accused of paying substandard wages? Use an α = .01 level test. (Wackerly, Ex.10.18)\n",
    "\n",
    "### CHECK: statistic: -2.5298221281347035, pvalue= 0.005706018193000826"
   ]
  },
  {
   "cell_type": "code",
   "execution_count": 25,
   "id": "1df8a4ad-fffc-444f-94a5-657433781e5b",
   "metadata": {
    "tags": []
   },
   "outputs": [],
   "source": [
    "mu = 13.20\n",
    "sigma = 2.50\n",
    "n = 40\n",
    "sample_mean = 12.20\n",
    "alpha = 0.01"
   ]
  },
  {
   "cell_type": "code",
   "execution_count": 26,
   "id": "819cc3e2-b382-496f-bf51-d22988c4af56",
   "metadata": {
    "tags": []
   },
   "outputs": [
    {
     "data": {
      "text/plain": [
       "-2.5298221281347035"
      ]
     },
     "execution_count": 26,
     "metadata": {},
     "output_type": "execute_result"
    }
   ],
   "source": [
    "z_score = (sample_mean - mu) / (sigma / (n ** 0.5))\n",
    "z_score"
   ]
  },
  {
   "cell_type": "code",
   "execution_count": 27,
   "id": "b6ac492a-321d-47ea-834d-ddb9e58dd09d",
   "metadata": {
    "tags": []
   },
   "outputs": [
    {
     "data": {
      "text/plain": [
       "0.005706018193000826"
      ]
     },
     "execution_count": 27,
     "metadata": {},
     "output_type": "execute_result"
    }
   ],
   "source": [
    "p_value = stats.norm.cdf(z_score)\n",
    "p_value"
   ]
  },
  {
   "cell_type": "code",
   "execution_count": 32,
   "id": "41bc974c-e9a0-4205-899d-50eb88462d8d",
   "metadata": {
    "tags": []
   },
   "outputs": [
    {
     "name": "stdout",
     "output_type": "stream",
     "text": [
      "Reject the null hypothesis. The company can be accused of paying substandard wages.\n"
     ]
    }
   ],
   "source": [
    "if p_value < alpha:\n",
    "    print(\"Reject the null hypothesis. The company can be accused of paying substandard wages.\")\n",
    "else:\n",
    "    print(\"Fail to reject the null hypothesis. There is not enough evidence to accuse the company of paying substandard wages.\")"
   ]
  },
  {
   "cell_type": "code",
   "execution_count": 29,
   "id": "9c398165-706b-4885-894d-a3c252c63187",
   "metadata": {
    "tags": []
   },
   "outputs": [
    {
     "name": "stdout",
     "output_type": "stream",
     "text": [
      "Statistic: -2.5298221281347035\n",
      "p-value = 0.005706018193000826\n"
     ]
    }
   ],
   "source": [
    "print(\"Statistic:\", z_score)\n",
    "print(\"p-value =\", p_value)"
   ]
  },
  {
   "cell_type": "markdown",
   "id": "7487ffb2-0310-4d29-8f4c-d14c5d9b324a",
   "metadata": {},
   "source": [
    "### EXERCISE 4.Shear strength measurements derived from unconfined compression tests for two types of soils gave the results shown in the following document (measurements in tons per square foot). Do the soils appear to differ with respect to average shear strength, at the 1% significance level?\n",
    "\n",
    "### CHECK: statistic: 5.1681473319343345, pvalue= 2.593228732352821e-06"
   ]
  },
  {
   "cell_type": "code",
   "execution_count": 45,
   "id": "bb6dd279-31b4-47bd-a8e6-692da152cf85",
   "metadata": {
    "tags": []
   },
   "outputs": [],
   "source": [
    "df = pd.read_excel(\"soil.xlsx\")"
   ]
  },
  {
   "cell_type": "code",
   "execution_count": 46,
   "id": "382dc546-4b0f-4267-a33e-76345b1bb443",
   "metadata": {
    "tags": []
   },
   "outputs": [
    {
     "data": {
      "text/html": [
       "<div>\n",
       "<style scoped>\n",
       "    .dataframe tbody tr th:only-of-type {\n",
       "        vertical-align: middle;\n",
       "    }\n",
       "\n",
       "    .dataframe tbody tr th {\n",
       "        vertical-align: top;\n",
       "    }\n",
       "\n",
       "    .dataframe thead th {\n",
       "        text-align: right;\n",
       "    }\n",
       "</style>\n",
       "<table border=\"1\" class=\"dataframe\">\n",
       "  <thead>\n",
       "    <tr style=\"text-align: right;\">\n",
       "      <th></th>\n",
       "      <th>Soil1</th>\n",
       "      <th>Soil2</th>\n",
       "    </tr>\n",
       "  </thead>\n",
       "  <tbody>\n",
       "    <tr>\n",
       "      <th>0</th>\n",
       "      <td>1.442</td>\n",
       "      <td>1.364</td>\n",
       "    </tr>\n",
       "    <tr>\n",
       "      <th>1</th>\n",
       "      <td>1.943</td>\n",
       "      <td>1.878</td>\n",
       "    </tr>\n",
       "    <tr>\n",
       "      <th>2</th>\n",
       "      <td>1.110</td>\n",
       "      <td>1.337</td>\n",
       "    </tr>\n",
       "    <tr>\n",
       "      <th>3</th>\n",
       "      <td>1.912</td>\n",
       "      <td>1.828</td>\n",
       "    </tr>\n",
       "    <tr>\n",
       "      <th>4</th>\n",
       "      <td>1.553</td>\n",
       "      <td>1.371</td>\n",
       "    </tr>\n",
       "  </tbody>\n",
       "</table>\n",
       "</div>"
      ],
      "text/plain": [
       "   Soil1  Soil2\n",
       "0  1.442  1.364\n",
       "1  1.943  1.878\n",
       "2  1.110  1.337\n",
       "3  1.912  1.828\n",
       "4  1.553  1.371"
      ]
     },
     "execution_count": 46,
     "metadata": {},
     "output_type": "execute_result"
    }
   ],
   "source": [
    "df.head()"
   ]
  },
  {
   "cell_type": "code",
   "execution_count": 50,
   "id": "adb09774-81ee-45ff-b5a8-18a65fc10964",
   "metadata": {
    "tags": []
   },
   "outputs": [
    {
     "name": "stdout",
     "output_type": "stream",
     "text": [
      "t-statistic: 5.1681473319343345\n",
      "p-value: 2.593228732352822e-06\n"
     ]
    }
   ],
   "source": [
    "soil1 = df['Soil1'].dropna()\n",
    "soil2 = df['Soil2']\n",
    "\n",
    "t_stat, p_value = stats.ttest_ind(soil1, soil2)\n",
    "\n",
    "print(\"t-statistic:\", t_stat)\n",
    "print(\"p-value:\", p_value)"
   ]
  },
  {
   "cell_type": "code",
   "execution_count": 55,
   "id": "22a3bba6-e40a-4386-a5cc-a5d740e168de",
   "metadata": {
    "tags": []
   },
   "outputs": [
    {
     "name": "stdout",
     "output_type": "stream",
     "text": [
      "At 0.01 level of significance, we fail to reject the null hypothesis.\n"
     ]
    }
   ],
   "source": [
    "alpha = 0.01\n",
    "\n",
    "if p_value<alpha:\n",
    "    print('At {} level of significance, we can reject the null hypothesis in favor of alternative hypothesis.'.format(alpha))\n",
    "else:\n",
    "    print('At {} level of significance, we fail to reject the null hypothesis.'.format(alpha))"
   ]
  },
  {
   "cell_type": "markdown",
   "id": "55eab398-cee9-496e-bdb6-330ff52bedeb",
   "metadata": {},
   "source": [
    "### EXERCISE 5. The following dataset is based on data provided by the World Bank (https://datacatalog.worldbank.org/dataset/education-statistics). World Bank Edstats.  2015 PISA Test Dataset\n",
    "\n",
    "### 1. Get descriptive statistics (the central tendency, dispersion and shape of a dataset’s distribution) for each continent group (AS, EU, AF, NA, SA, OC).\n",
    "\n",
    "### 2. Determine whether there is any difference (on the average) for the math scores among European (EU) and Asian (AS) countries (assume normality and equal variances). Draw side-by-side box plots.\n",
    "\n",
    "### CHECK: statistic=0.870055317967983, pvalue=0.38826888111307345"
   ]
  },
  {
   "cell_type": "code",
   "execution_count": 51,
   "id": "3538d1d8-5d26-4055-a6b0-741fedf85789",
   "metadata": {
    "tags": []
   },
   "outputs": [],
   "source": [
    "data = pd.read_excel(\"2015 PISA Test.xlsx\")"
   ]
  },
  {
   "cell_type": "code",
   "execution_count": 52,
   "id": "4067b803-53fe-4795-90d0-711b04e895e7",
   "metadata": {
    "tags": []
   },
   "outputs": [
    {
     "data": {
      "text/html": [
       "<div>\n",
       "<style scoped>\n",
       "    .dataframe tbody tr th:only-of-type {\n",
       "        vertical-align: middle;\n",
       "    }\n",
       "\n",
       "    .dataframe tbody tr th {\n",
       "        vertical-align: top;\n",
       "    }\n",
       "\n",
       "    .dataframe thead th {\n",
       "        text-align: right;\n",
       "    }\n",
       "</style>\n",
       "<table border=\"1\" class=\"dataframe\">\n",
       "  <thead>\n",
       "    <tr style=\"text-align: right;\">\n",
       "      <th></th>\n",
       "      <th>Country Code</th>\n",
       "      <th>Continent_Code</th>\n",
       "      <th>internet_users_per_100</th>\n",
       "      <th>Math</th>\n",
       "      <th>Reading</th>\n",
       "      <th>Science</th>\n",
       "    </tr>\n",
       "  </thead>\n",
       "  <tbody>\n",
       "    <tr>\n",
       "      <th>0</th>\n",
       "      <td>ALB</td>\n",
       "      <td>EU</td>\n",
       "      <td>63.252933</td>\n",
       "      <td>413.1570</td>\n",
       "      <td>405.2588</td>\n",
       "      <td>427.2250</td>\n",
       "    </tr>\n",
       "    <tr>\n",
       "      <th>1</th>\n",
       "      <td>ARE</td>\n",
       "      <td>AS</td>\n",
       "      <td>90.500000</td>\n",
       "      <td>427.4827</td>\n",
       "      <td>433.5423</td>\n",
       "      <td>436.7311</td>\n",
       "    </tr>\n",
       "    <tr>\n",
       "      <th>2</th>\n",
       "      <td>ARG</td>\n",
       "      <td>SA</td>\n",
       "      <td>68.043064</td>\n",
       "      <td>409.0333</td>\n",
       "      <td>425.3031</td>\n",
       "      <td>432.2262</td>\n",
       "    </tr>\n",
       "    <tr>\n",
       "      <th>3</th>\n",
       "      <td>AUS</td>\n",
       "      <td>OC</td>\n",
       "      <td>84.560519</td>\n",
       "      <td>493.8962</td>\n",
       "      <td>502.9006</td>\n",
       "      <td>509.9939</td>\n",
       "    </tr>\n",
       "    <tr>\n",
       "      <th>4</th>\n",
       "      <td>AUT</td>\n",
       "      <td>EU</td>\n",
       "      <td>83.940142</td>\n",
       "      <td>496.7423</td>\n",
       "      <td>484.8656</td>\n",
       "      <td>495.0375</td>\n",
       "    </tr>\n",
       "  </tbody>\n",
       "</table>\n",
       "</div>"
      ],
      "text/plain": [
       "  Country Code Continent_Code  internet_users_per_100      Math   Reading  \\\n",
       "0          ALB             EU               63.252933  413.1570  405.2588   \n",
       "1          ARE             AS               90.500000  427.4827  433.5423   \n",
       "2          ARG             SA               68.043064  409.0333  425.3031   \n",
       "3          AUS             OC               84.560519  493.8962  502.9006   \n",
       "4          AUT             EU               83.940142  496.7423  484.8656   \n",
       "\n",
       "    Science  \n",
       "0  427.2250  \n",
       "1  436.7311  \n",
       "2  432.2262  \n",
       "3  509.9939  \n",
       "4  495.0375  "
      ]
     },
     "execution_count": 52,
     "metadata": {},
     "output_type": "execute_result"
    }
   ],
   "source": [
    "data.head()"
   ]
  },
  {
   "cell_type": "code",
   "execution_count": 56,
   "id": "33858904-6c06-4f5b-88a2-52fb26c9ad7d",
   "metadata": {
    "tags": []
   },
   "outputs": [
    {
     "name": "stdout",
     "output_type": "stream",
     "text": [
      "Descriptive statistics for European countries:\n",
      "count     37.000000\n",
      "mean     477.981449\n",
      "std       35.150403\n",
      "min      371.311400\n",
      "25%      464.040100\n",
      "50%      489.728700\n",
      "75%      503.722000\n",
      "max      521.250600\n",
      "Name: Math, dtype: float64\n",
      "\n",
      "Descriptive statistics for Asian countries:\n",
      "count     17.000000\n",
      "mean     466.216647\n",
      "std       64.356490\n",
      "min      380.259000\n",
      "25%      403.833200\n",
      "50%      459.816000\n",
      "75%      531.296100\n",
      "max      564.189700\n",
      "Name: Math, dtype: float64\n",
      "\n",
      "T-test results:\n",
      "Statistic: 0.8700553179679789\n",
      "p-value: 0.38826888111307556\n"
     ]
    },
    {
     "data": {
      "image/png": "[encoded data removed]",
      "text/plain": [
       "<Figure size 640x480 with 1 Axes>"
      ]
     },
     "metadata": {},
     "output_type": "display_data"
    }
   ],
   "source": [
    "eu_countries = data[data['Continent_Code'] == 'EU']['Math']\n",
    "as_countries = data[data['Continent_Code'] == 'AS']['Math']\n",
    "\n",
    "eu_stats = eu_countries.describe()\n",
    "as_stats = as_countries.describe()\n",
    "\n",
    "t_statistic, p_value = stats.ttest_ind(eu_countries, as_countries)\n",
    "\n",
    "print(\"Descriptive statistics for European countries:\")\n",
    "print(eu_stats)\n",
    "print(\"\\nDescriptive statistics for Asian countries:\")\n",
    "print(as_stats)\n",
    "print(\"\\nT-test results:\")\n",
    "print(\"Statistic:\", t_statistic)\n",
    "print(\"p-value:\", p_value)\n",
    "\n",
    "plt.boxplot([eu_countries, as_countries], labels=['EU', 'AS'])\n",
    "plt.xlabel('Continent')\n",
    "plt.ylabel('Math Score')\n",
    "plt.title('Math Scores of European and Asian Countries')\n",
    "plt.grid(True)\n",
    "plt.show()"
   ]
  },
  {
   "cell_type": "code",
   "execution_count": null,
   "id": "dfbd9320-3f66-4dee-885b-2cf00c7680b1",
   "metadata": {},
   "outputs": [],
   "source": []
  }
 ],
 "metadata": {
  "kernelspec": {
   "display_name": "Python 3 (ipykernel)",
   "language": "python",
   "name": "python3"
  },
  "language_info": {
   "codemirror_mode": {
    "name": "ipython",
    "version": 3
   },
   "file_extension": ".py",
   "mimetype": "text/x-python",
   "name": "python",
   "nbconvert_exporter": "python",
   "pygments_lexer": "ipython3",
   "version": "3.11.5"
  }
 },
 "nbformat": 4,
 "nbformat_minor": 5
}
