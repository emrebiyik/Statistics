{
 "cells": [
  {
   "cell_type": "markdown",
   "metadata": {
    "id": "K7S4cEyZLTp7"
   },
   "source": [
    "## Descriptive Statistics"
   ]
  },
  {
   "cell_type": "markdown",
   "metadata": {
    "id": "vZRYVyc8H7hi"
   },
   "source": [
    " Import **NumPy**, **SciPy**, and **Pandas**"
   ]
  },
  {
   "cell_type": "code",
   "execution_count": null,
   "metadata": {
    "id": "7ShN0klrHIk3"
   },
   "outputs": [],
   "source": [
    "import\n",
    "import\n",
    "import"
   ]
  },
  {
   "cell_type": "code",
   "execution_count": 1,
   "metadata": {
    "tags": []
   },
   "outputs": [],
   "source": [
    "import numpy as np"
   ]
  },
  {
   "cell_type": "code",
   "execution_count": 2,
   "metadata": {
    "tags": []
   },
   "outputs": [],
   "source": [
    "import numpy as np\n",
    "from scipy import stats"
   ]
  },
  {
   "cell_type": "code",
   "execution_count": 3,
   "metadata": {
    "tags": []
   },
   "outputs": [],
   "source": [
    "import pandas as pd"
   ]
  },
  {
   "cell_type": "markdown",
   "metadata": {
    "id": "_SaQURIqIA6d"
   },
   "source": [
    " Randomly generate 1,000 samples from the normal distribution using `np.random.normal()`(mean = 100, standard deviation = 15)\n",
    "\n",
    "np.random.normal(loc=0.0, scale=1.0, size=None)  #you need to modify this code.\n",
    "\n",
    "loc will be equal to mean, scale will be equal to std deviation, size will be equal to sample size."
   ]
  },
  {
   "cell_type": "code",
   "execution_count": null,
   "metadata": {
    "id": "Jyw_FMX0IRkm"
   },
   "outputs": [],
   "source": [
    "samples = np.random.normal(loc=0, scale=1, size=None)"
   ]
  },
  {
   "cell_type": "code",
   "execution_count": 6,
   "metadata": {
    "tags": []
   },
   "outputs": [
    {
     "data": {
      "text/plain": [
       "array([ 99.79407514,  79.13412508, 113.93752552, 102.56857244,\n",
       "        81.56112103, 105.86168524, 104.41286856, 111.33431125,\n",
       "        66.53992676,  93.09229543, 116.1448911 , 113.90385462,\n",
       "        88.54055764,  86.46466356, 106.84248454, 102.78617104,\n",
       "        79.9507596 ,  86.5388754 ,  95.91327233, 104.64842246,\n",
       "       107.59646638,  90.36672442, 107.52988161,  92.32505539,\n",
       "       108.93831887, 121.52053168, 124.84010572,  84.14102031,\n",
       "        91.16752718, 106.00853469,  86.90051329, 104.38151779,\n",
       "        80.25784681, 137.98041605,  91.14649368,  98.76587577,\n",
       "        97.75006674, 113.2708425 ,  86.9062601 ,  90.31067067,\n",
       "        90.89116124, 120.67430156,  75.78227865, 115.07234073,\n",
       "        87.93471537, 101.83219539,  96.05131513, 107.37474097,\n",
       "       103.47368069,  89.24759546, 113.05045419, 119.29705686,\n",
       "       103.68104301, 129.63440412, 103.05339128, 103.6516881 ,\n",
       "       123.11074809, 101.577757  , 110.64048046, 113.62471717,\n",
       "        84.47680776, 115.42573623, 109.87964704, 101.63667491,\n",
       "        92.74721558,  87.75168565,  95.31518352, 112.64717585,\n",
       "        85.27109515,  81.95832218,  98.96236855, 112.88235833,\n",
       "       100.8655581 , 141.85154668, 118.54454874, 124.14488946,\n",
       "        93.71577481, 105.72371778,  95.16964049, 105.78809632,\n",
       "        89.26713639, 115.06561346,  80.24791367,  85.26362643,\n",
       "        92.14611338,  76.22568338,  98.67464625,  89.50015643,\n",
       "        96.2023808 ,  95.34146909,  72.08421529, 105.30945262,\n",
       "        99.43527243,  74.76929964, 105.04841462, 117.78178027,\n",
       "       118.33649002,  92.26053331,  94.83187165,  98.55887242,\n",
       "       107.76134471,  66.52262323,  95.75151738,  76.58827146,\n",
       "       103.39873039, 126.11934884, 105.44115168,  98.50138265,\n",
       "       114.82825938,  95.92186018,  94.94365804, 120.15057312,\n",
       "       103.42188114,  78.74182126, 105.52289788,  95.45534225,\n",
       "       105.81861895, 101.91875223,  82.4813987 ,  85.56882074,\n",
       "       104.18048309, 117.06728966,  79.62787062, 107.64182666,\n",
       "        80.6731402 ,  75.14279643,  78.95706993, 108.08518344,\n",
       "        98.6252877 , 102.67954257,  89.75468444,  98.48870669,\n",
       "       111.90861717, 113.82630245,  89.43597608,  80.24209708,\n",
       "        96.31349183,  79.0449593 ,  80.96207463, 127.16694435,\n",
       "       115.87379018,  93.23282633,  90.01472989, 111.80183521,\n",
       "       104.69263045, 120.5488839 ,  81.40919488,  98.65756723,\n",
       "        85.55451078,  60.80680706, 105.46896587, 100.52306767,\n",
       "        90.63558647,  92.04034391, 106.78967214, 115.74849331,\n",
       "       103.91160016, 102.29938979,  79.89996192, 108.16470919,\n",
       "        99.29160547, 101.52120685, 115.46004474, 126.709904  ,\n",
       "        93.69171276, 107.06293756,  81.68868767,  76.91294606,\n",
       "        77.62797456,  87.36079746, 105.50890848, 106.95386309,\n",
       "        91.48370452, 110.83828547,  97.07656471,  89.47996594,\n",
       "        93.59646351, 107.8181874 , 121.51411194,  98.65132958,\n",
       "       114.69626427, 100.57327293,  54.34531995, 108.54606328,\n",
       "       137.00065084,  82.66934021,  90.47765099,  96.5099639 ,\n",
       "        76.55530895,  71.31783332,  85.86652056, 115.0071781 ,\n",
       "       106.28809647,  94.4323477 , 102.69343476,  73.13271044,\n",
       "        97.77896731, 114.07215605,  90.6101985 , 103.87395112,\n",
       "        90.12806726, 106.75233084, 118.3722924 , 114.60473051,\n",
       "       107.44709344, 115.86844635,  97.46012334,  83.92531469,\n",
       "       130.28797123, 108.55092644, 106.52465325,  95.74754869,\n",
       "       111.29268669,  92.97282973,  93.79802956,  92.80172241,\n",
       "        94.22879632, 116.49904558, 110.60617361, 125.39210135,\n",
       "        90.13092758, 120.56114   , 107.65063987,  98.54526386,\n",
       "        99.53166756,  96.49417336,  77.83371398, 125.11957809,\n",
       "        84.28264252, 118.60215766, 122.15849912, 117.47932875,\n",
       "        88.89699398,  96.46931984,  83.50144361, 104.98223221,\n",
       "        88.59912765,  98.74938725,  84.18109523, 133.24746842,\n",
       "        91.02773012,  95.93032334,  92.30787535, 120.75372253,\n",
       "        85.85532243,  92.23216543, 106.14606419, 110.05373057,\n",
       "        89.34289044, 112.61948597,  95.25746877, 113.6514568 ,\n",
       "        77.7606418 ,  75.01554103,  99.52606446, 107.79301122,\n",
       "        83.18589972, 124.06385466, 106.69167709,  85.87097453,\n",
       "       119.54215471, 102.8065595 ,  93.51051813,  81.77160426,\n",
       "       103.5600498 ,  91.23994187,  95.43582741,  87.71179855,\n",
       "        93.81922523, 109.592266  ,  83.26280085, 113.8378694 ,\n",
       "        75.35007133,  80.79312719,  97.61492277,  90.46872484,\n",
       "       100.63892199, 112.68080168, 104.93758385, 101.45686179,\n",
       "       124.48542748, 117.40839584, 112.04463872, 114.10946467,\n",
       "        90.24353428,  94.49144696, 107.0938771 , 100.01243057,\n",
       "       100.35962144, 113.0003161 ,  93.09272933, 121.20481034,\n",
       "       106.47014156, 106.80692456, 116.09928008, 102.24448984,\n",
       "        98.91094514,  92.00927743, 104.78832481,  92.87677802,\n",
       "        93.37486665, 121.18369056, 111.93776331,  93.45288626,\n",
       "       113.63446177,  89.85062082, 118.35969781,  92.6991852 ,\n",
       "       112.56328058, 110.68827571, 130.57908043, 117.71600813,\n",
       "       106.50813964, 105.4179296 , 105.05114674, 111.96212148,\n",
       "       115.56469116,  99.74379587,  98.32601915, 111.76809365,\n",
       "        73.12979456,  77.8417491 ,  96.26880722, 112.25271444,\n",
       "       105.47120151,  96.99917975, 108.41404504, 107.9622834 ,\n",
       "       113.96065413,  63.40171061,  90.56580109,  98.10506466,\n",
       "        94.16912506,  86.58190363, 103.34989115,  80.897278  ,\n",
       "       115.37626963,  92.32016615,  93.90856781, 100.80204019,\n",
       "        96.83661219,  97.63394193, 105.13833746, 117.1531703 ,\n",
       "        91.04222453, 107.31158288, 102.26931699,  76.5880419 ,\n",
       "       100.42332913,  95.19828511, 109.07481677,  94.48211651,\n",
       "       110.40091759, 106.48301713,  93.55316501, 123.04589691,\n",
       "        82.57401681,  74.91792081, 106.85908812, 109.49482444,\n",
       "        74.88178686,  90.22581067,  83.33810491, 104.07182396,\n",
       "        83.96951232,  91.18199671, 116.7367211 , 104.17724699,\n",
       "       104.15782973,  87.2007165 ,  81.84194959,  78.79187839,\n",
       "       101.74636168,  91.61152613,  81.00658271, 108.72329514,\n",
       "        84.81569979,  88.23905897,  93.1572952 , 112.99496313,\n",
       "        73.7340314 , 103.97099655, 106.43039809, 123.20573206,\n",
       "        86.13347026, 118.82695675,  97.64492704, 119.4810523 ,\n",
       "       116.96831256, 102.83496515, 124.3319453 , 110.66670073,\n",
       "        92.00725388,  91.18958032,  58.06463   , 116.47273034,\n",
       "        89.21941988,  86.61971803,  93.31587794, 100.42201866,\n",
       "       109.82442748,  92.68099315,  88.96968013, 104.00447442,\n",
       "        95.61325575,  97.12511244, 102.34322509,  82.79306702,\n",
       "       113.81427933, 125.77568263,  95.28256459, 124.238644  ,\n",
       "        66.65643049, 137.93066786,  89.86115598,  99.30380114,\n",
       "       100.81117675, 103.98965417,  81.16684648, 103.84818995,\n",
       "        98.61905621, 113.8434339 ,  96.18508687,  74.69689464,\n",
       "       111.57144133,  84.54852753,  80.25834524, 103.92182686,\n",
       "        92.29222267, 103.94508389, 110.75736762, 108.28257307,\n",
       "        87.09595758, 104.65852093, 122.32662331,  73.25461216,\n",
       "        86.04283056,  74.83340606, 115.21257134, 113.07607841,\n",
       "       105.08838939,  82.94921841,  85.85393855,  96.16841229,\n",
       "       119.68548142,  84.79745025, 131.96578502, 122.03277647,\n",
       "       113.44105852,  79.30137494,  79.19910104,  73.00495268,\n",
       "       107.7348043 ,  84.24911549,  98.44084853,  82.44921861,\n",
       "       108.7158238 , 109.24062033, 107.27030963,  88.81663115,\n",
       "        95.74298243, 106.92344474, 120.30742733,  85.31644104,\n",
       "        88.1194111 , 107.15542935,  74.45837932,  93.96616318,\n",
       "        92.8038719 ,  91.26021139,  87.60068127, 106.17622992,\n",
       "       131.93135861,  79.54840583, 104.66987043,  95.76434115,\n",
       "       108.69973706,  92.39315232, 103.81132773, 113.27526908,\n",
       "       101.00030598, 107.99673314,  99.24734938,  94.20119874,\n",
       "       116.14250509,  99.44803711, 113.1197485 , 101.47396617,\n",
       "       103.12784032, 111.14517107, 101.26896978,  77.84718819,\n",
       "        93.50371831,  84.48945984,  85.09320873, 120.39400085,\n",
       "        70.39189139, 122.49945929,  99.77191912, 101.10363508,\n",
       "       122.45634532,  96.94729135,  93.81346819,  67.27003526,\n",
       "       100.33283283, 104.46075118, 116.63629589,  76.52091326,\n",
       "        97.95098971, 128.76899638, 106.94804638,  98.31693609,\n",
       "       104.63953592,  93.89370263, 116.65004045,  80.96921796,\n",
       "       119.68223372,  93.82002597, 148.3083481 , 108.38290881,\n",
       "       118.32037956,  86.6859351 , 127.56742999,  65.28407777,\n",
       "       100.93064046,  85.19671437, 114.02254473,  99.96133477,\n",
       "        88.60834725,  77.58741414,  73.63584783, 118.68439746,\n",
       "       103.18054511, 104.26014749, 101.85302286, 122.73786137,\n",
       "       104.3921105 , 123.17144199,  80.97954576, 142.92326667,\n",
       "        91.25232074,  98.34715973,  98.53669857,  90.70173637,\n",
       "        92.21853247, 103.29929111,  98.69619718,  98.62083869,\n",
       "        82.44973366,  90.11879159, 131.17047246, 103.41329567,\n",
       "       115.22438733,  89.42029242,  72.48720903,  80.42431953,\n",
       "       106.73459739, 100.11674528,  66.39049865, 101.59681002,\n",
       "        96.82777621,  91.78341453,  94.8500159 , 128.64338748,\n",
       "       103.21622964, 119.90369109,  89.281135  , 104.22262507,\n",
       "        94.08171275,  86.77862322,  82.88517357,  57.89080552,\n",
       "       101.34104279,  91.50592244,  85.24474903,  75.16181186,\n",
       "        97.06823537,  80.12684025, 117.06201938,  83.94924404,\n",
       "       105.74499143,  90.58219412,  95.93124429, 101.66027259,\n",
       "        88.81493126,  96.50861009, 121.11366243, 100.55430655,\n",
       "       103.84895154, 115.1932774 , 105.7914448 , 107.29400682,\n",
       "       113.46868812, 106.50055239,  83.80798212,  95.17895433,\n",
       "       103.28608963,  73.73217824, 118.23933984,  86.23181176,\n",
       "       111.56107625,  84.89866244,  92.16585174,  99.79562817,\n",
       "        76.1238752 ,  89.1472895 , 102.60422046,  92.22277128,\n",
       "        95.21683316,  93.50213937,  87.98155313, 114.3377113 ,\n",
       "        80.07999444,  88.67844287, 100.94875454, 117.82035149,\n",
       "       116.36910504,  92.13252562,  92.08685868,  96.24604766,\n",
       "        88.50702778, 128.08298064,  69.55867492,  70.61452929,\n",
       "       112.01058809, 104.70225509,  93.36417903,  74.40089983,\n",
       "       108.19714768, 107.01986796, 125.76809127, 106.54229059,\n",
       "       114.05068653,  97.84042053,  81.87081825, 105.28382339,\n",
       "        95.81517156,  90.0327372 , 103.99374181,  77.62020033,\n",
       "        89.87277564,  96.92698274,  90.41458929, 108.99559367,\n",
       "       107.59338955, 113.72631041, 103.74721081,  86.36732797,\n",
       "       116.03004653,  77.68892585, 105.10593171, 130.01552823,\n",
       "        79.04988902, 113.11800585,  92.91828034,  98.02711733,\n",
       "        94.82651157, 107.92841211, 105.62576515,  92.90445744,\n",
       "       129.22741495,  87.77547467,  79.7982055 ,  98.40265572,\n",
       "       104.45527768,  79.82500782,  82.96872035,  86.78295688,\n",
       "       101.37926115, 100.04073273, 101.29315226, 110.10278169,\n",
       "        95.44773242,  97.86777065, 122.79898508, 102.25270527,\n",
       "       127.77936892,  89.85289723, 118.40770218, 103.37331925,\n",
       "       102.15889449, 108.93827032,  93.85425962, 113.56673083,\n",
       "       106.94337702, 105.4394922 , 110.04936563,  99.25089713,\n",
       "        83.83027668, 126.53872756, 103.56670852, 104.11473849,\n",
       "       111.11692157,  77.72614727, 104.90957374,  87.10183929,\n",
       "        93.47106482, 111.16307679, 101.66078368,  94.54969447,\n",
       "       112.92747453,  94.36230691, 108.78336294,  98.61811052,\n",
       "       112.63108693,  86.47589822,  86.68957817,  97.5094835 ,\n",
       "        87.42664754,  89.11081894, 117.71749368, 103.4611656 ,\n",
       "        74.10800307,  72.97318725, 118.00763004,  78.46863873,\n",
       "       114.7992452 , 124.57114913,  90.95359958,  81.57844441,\n",
       "        98.54893267, 101.63830005, 103.22252426,  87.88137387,\n",
       "       103.45888149, 119.05746336, 104.39564563, 108.21718971,\n",
       "        87.74551648,  99.40352358, 111.88614213,  89.70347239,\n",
       "       122.34414257,  91.88411209,  95.96953338,  98.22920648,\n",
       "       112.25103895, 126.02213338, 112.18251059,  97.67776427,\n",
       "        98.48692195, 126.8669487 , 115.39118293, 106.73099625,\n",
       "        79.61786142, 126.68821031, 104.16702014, 112.7185137 ,\n",
       "        84.31997401, 107.94023737, 105.40382977, 124.06168563,\n",
       "       103.62108994,  97.33794796,  98.80058082, 117.71630026,\n",
       "       100.91330536, 115.16341395,  93.5667207 ,  90.09815919,\n",
       "        77.67846857, 115.83040742, 105.46194752, 103.08678328,\n",
       "       103.80558761, 103.3276825 ,  97.14633751, 102.04294396,\n",
       "        89.9162361 ,  94.19518592, 104.91227316, 112.7164217 ,\n",
       "       105.05421407,  97.31153096, 105.11095246, 123.87614799,\n",
       "        82.83375557,  93.51119523,  76.78727012, 105.23036968,\n",
       "        83.68847141, 132.72315378,  92.65295348,  96.94810314,\n",
       "       124.81589472, 105.68779045,  89.31560766,  96.32845431,\n",
       "        93.32196516,  97.91067086,  91.31431226,  90.4233279 ,\n",
       "        87.69215407,  73.7631174 ,  92.64091382,  91.48219307,\n",
       "       117.45459703,  98.98100866, 128.02101212, 116.03503021,\n",
       "       106.72630341, 106.79428333, 108.04853481, 116.17262466,\n",
       "       101.65949512,  91.71320797, 112.95981914,  87.06554912,\n",
       "       124.83045535,  76.71137922,  89.98140656,  98.31994325,\n",
       "       106.96877146,  85.97558893,  92.1730713 ,  85.86244138,\n",
       "       130.97640268, 100.90415481, 111.40584761,  88.7017175 ,\n",
       "       100.2532411 ,  88.05578056,  65.6289204 ,  88.87217602,\n",
       "        97.46564791, 100.0991712 , 128.67026707, 105.03356404,\n",
       "        98.04848662,  87.23560062,  96.51716959,  82.16701119,\n",
       "        97.35305755,  94.1126661 , 122.06590107, 108.36994128,\n",
       "        88.42807385, 117.48773084,  91.30307096,  84.43816655,\n",
       "        95.55929738, 127.58956927, 101.57320181, 114.37862355,\n",
       "       103.36727043,  94.15257543, 102.00713446,  87.39947878,\n",
       "        88.42658863, 136.87581202,  84.84174639, 129.14257232,\n",
       "        93.54191628, 109.94220622,  87.19704318,  65.07207989,\n",
       "        71.75575577,  87.49186988,  98.758205  , 122.75217431,\n",
       "        94.87767955, 101.05785999,  89.52845629, 118.74689768,\n",
       "       110.55463381, 113.00427691,  77.83585492, 117.83912521,\n",
       "        96.76295861, 106.20108712,  98.67405833,  97.41070021,\n",
       "        98.44217605, 105.536362  , 111.7137325 , 113.8839205 ,\n",
       "        80.80139061, 109.24746378, 102.07123462,  80.02568778,\n",
       "        87.31337311,  93.51835169, 136.06854145,  99.41447654,\n",
       "       102.93770105, 124.89435438, 103.18371319,  98.99963889,\n",
       "       111.14036749,  99.45553646,  89.85508163,  90.87812595,\n",
       "       109.33686822,  83.33090632,  94.93685051,  94.16013164,\n",
       "        81.75414941,  93.81798199, 128.65043444, 108.21007664,\n",
       "        96.22728552,  82.70585519, 109.52598597, 104.8710251 ,\n",
       "       102.43035462,  98.81701415,  74.36455985, 102.55165668,\n",
       "        93.60056816, 122.69921423,  98.77107204, 106.61586039,\n",
       "        80.3874212 , 116.42903491, 113.48166365, 111.55489511,\n",
       "        81.55226489,  85.89606422,  77.07189271,  83.7097135 ,\n",
       "       113.41700053,  98.41841705,  99.23555158, 105.24399866,\n",
       "        99.58985539, 115.78662436,  84.87671648,  63.18567959,\n",
       "       116.3817424 ,  91.36491164, 115.47853856, 119.60255258,\n",
       "       105.15580723, 108.11071519,  79.90187961,  95.43177634,\n",
       "        89.13979851,  91.57151227,  78.10265882, 117.83340129,\n",
       "        87.28884473,  81.21086667,  78.85116943,  98.08272362,\n",
       "       126.91750689,  98.07441874,  99.01660246, 136.80047802,\n",
       "       110.67755717,  85.13812255,  96.99507075,  73.51208363,\n",
       "        87.78757455, 100.12827946,  84.12003525, 123.39224194,\n",
       "        96.43225869,  89.43651442,  96.44041897, 119.06042917,\n",
       "        88.08260615,  85.0784015 ,  76.23567247, 129.32718014,\n",
       "       111.16744   ,  93.3750349 ,  88.36823901, 117.80255416,\n",
       "        75.13933576,  72.82010578,  91.04966221,  78.80041773,\n",
       "        88.4632704 , 119.67393782, 105.8069113 ,  95.0957535 ,\n",
       "       117.97684423,  85.6328771 , 124.46930697,  92.20776621,\n",
       "        95.22999819, 114.22189205, 102.07712913,  83.59186777,\n",
       "        95.70271201, 108.64756129, 111.13750197,  79.52121422,\n",
       "        89.93602557,  70.20921123,  70.4482825 ,  73.3039484 ,\n",
       "        94.39434671, 107.21120923, 111.80768358,  94.66663151,\n",
       "        89.98753177, 107.85795354, 103.55926128, 119.98617978])"
      ]
     },
     "execution_count": 6,
     "metadata": {},
     "output_type": "execute_result"
    }
   ],
   "source": [
    "samples = np.random.normal(loc=100, scale=15, size=1000)\n",
    "samples"
   ]
  },
  {
   "cell_type": "markdown",
   "metadata": {
    "id": "CDF8m3a4IYOC"
   },
   "source": [
    "Compute the **mean**, **median**, and **mode**"
   ]
  },
  {
   "cell_type": "code",
   "execution_count": null,
   "metadata": {
    "id": "ZKbeqxaKIoNs"
   },
   "outputs": [],
   "source": [
    "mean = np.mean(samples)\n",
    "median =\n",
    "mode ="
   ]
  },
  {
   "cell_type": "code",
   "execution_count": 13,
   "metadata": {
    "tags": []
   },
   "outputs": [
    {
     "name": "stdout",
     "output_type": "stream",
     "text": [
      "mean: 99.60820777150563\n",
      "median: 99.12607702264943\n",
      "mode: ModeResult(mode=54.34531995407482, count=1)\n"
     ]
    }
   ],
   "source": [
    "mean = np.mean(samples)\n",
    "print('mean:', mean)\n",
    "median = np.median(samples)\n",
    "print('median:', median)\n",
    "mode = stats.mode(samples)\n",
    "print('mode:', mode)"
   ]
  },
  {
   "cell_type": "markdown",
   "metadata": {
    "id": "skT8m39XI60w"
   },
   "source": [
    "Compute the **min**, **max**, **Q1**, **Q3**, and **interquartile range**"
   ]
  },
  {
   "cell_type": "code",
   "execution_count": 16,
   "metadata": {
    "id": "VaiDphm8It0O"
   },
   "outputs": [],
   "source": [
    "min =\n",
    "max =\n",
    "q1 =\n",
    "q3 =\n",
    "iqr ="
   ]
  },
  {
   "cell_type": "code",
   "execution_count": 18,
   "metadata": {
    "tags": []
   },
   "outputs": [
    {
     "name": "stdout",
     "output_type": "stream",
     "text": [
      "min: 54.34531995407482\n",
      "max: 148.30834809657767\n",
      "q1: 89.52138132729962\n",
      "q3: 109.01539944789019\n",
      "iqr: 19.494018120590567\n"
     ]
    }
   ],
   "source": [
    "print('min:', np.min(samples)) \n",
    "print('max:', np.max(samples)) \n",
    "print('q1:', np.percentile(samples, 25))\n",
    "print('q3:', np.percentile(samples, 75))\n",
    "print('iqr:', np.percentile(samples, 75)-np.percentile(samples, 25))"
   ]
  },
  {
   "cell_type": "markdown",
   "metadata": {
    "id": "m53Dv3n5JHQi"
   },
   "source": [
    "Compute the **variance** and **standard deviation**"
   ]
  },
  {
   "cell_type": "code",
   "execution_count": null,
   "metadata": {
    "id": "6JFaAYdrJbeN"
   },
   "outputs": [],
   "source": [
    "variance =\n",
    "std_dev ="
   ]
  },
  {
   "cell_type": "code",
   "execution_count": 21,
   "metadata": {
    "tags": []
   },
   "outputs": [
    {
     "name": "stdout",
     "output_type": "stream",
     "text": [
      "variance: 214.9684490670823\n",
      "std_dev: 14.661802381258667\n"
     ]
    }
   ],
   "source": [
    "print('variance:', np.var(samples))\n",
    "print('std_dev:', np.std(samples))"
   ]
  },
  {
   "cell_type": "markdown",
   "metadata": {
    "id": "5eup4hI1JzqX"
   },
   "source": [
    "Compute the **skewness** and **kurtosis**\n",
    "\n",
    "You can use [`scipy.stats.skew`](https://docs.scipy.org/doc/scipy/reference/generated/scipy.stats.skew.html) and [`scipy.stats.kurtosis`](https://docs.scipy.org/doc/scipy/reference/generated/scipy.stats.kurtosis.html)"
   ]
  },
  {
   "cell_type": "code",
   "execution_count": null,
   "metadata": {
    "id": "YO3obyDnJ3_D"
   },
   "outputs": [],
   "source": [
    "skewness =\n",
    "kurtosis ="
   ]
  },
  {
   "cell_type": "code",
   "execution_count": 31,
   "metadata": {
    "tags": []
   },
   "outputs": [],
   "source": [
    "from scipy.stats import skew, kurtosis"
   ]
  },
  {
   "cell_type": "code",
   "execution_count": 30,
   "metadata": {
    "tags": []
   },
   "outputs": [
    {
     "data": {
      "text/plain": [
       "0.07227673240845348"
      ]
     },
     "execution_count": 30,
     "metadata": {},
     "output_type": "execute_result"
    }
   ],
   "source": [
    "skew(samples)"
   ]
  },
  {
   "cell_type": "code",
   "execution_count": 29,
   "metadata": {
    "tags": []
   },
   "outputs": [
    {
     "data": {
      "text/plain": [
       "-0.13909744188641282"
      ]
     },
     "execution_count": 29,
     "metadata": {},
     "output_type": "execute_result"
    }
   ],
   "source": [
    "kurtosis(samples)"
   ]
  },
  {
   "cell_type": "markdown",
   "metadata": {
    "id": "a5UNc8PUKnbU"
   },
   "source": [
    "## NumPy Correlation Calculation"
   ]
  },
  {
   "cell_type": "markdown",
   "metadata": {
    "id": "cLiqxE1CMNTg"
   },
   "source": [
    "Create an array x of integers between 10 (inclusive) and 20 (exclusive). Use `np.arange()`"
   ]
  },
  {
   "cell_type": "code",
   "execution_count": null,
   "metadata": {
    "id": "5LAaQ6w5L-2L"
   },
   "outputs": [],
   "source": [
    "x ="
   ]
  },
  {
   "cell_type": "code",
   "execution_count": 33,
   "metadata": {
    "tags": []
   },
   "outputs": [
    {
     "data": {
      "text/plain": [
       "array([10, 11, 12, 13, 14, 15, 16, 17, 18, 19])"
      ]
     },
     "execution_count": 33,
     "metadata": {},
     "output_type": "execute_result"
    }
   ],
   "source": [
    "x = np.arange(10, 20)\n",
    "x"
   ]
  },
  {
   "cell_type": "markdown",
   "metadata": {
    "id": "qyCIaukNMZPf"
   },
   "source": [
    "Then use `np.array()` to create a second array y containing 10 arbitrary integers."
   ]
  },
  {
   "cell_type": "code",
   "execution_count": null,
   "metadata": {
    "id": "p27eW__gNMdh"
   },
   "outputs": [],
   "source": [
    "y = np.array([1, 3, 5, 6, 8, 5, 7, 6])"
   ]
  },
  {
   "cell_type": "code",
   "execution_count": 37,
   "metadata": {
    "tags": []
   },
   "outputs": [
    {
     "data": {
      "text/plain": [
       "array([ 1,  2,  7, 13,  2, 32,  9,  5, 11, 12])"
      ]
     },
     "execution_count": 37,
     "metadata": {},
     "output_type": "execute_result"
    }
   ],
   "source": [
    "y = np.array([1, 2, 7, 13, 2, 32, 9, 5, 11, 12])\n",
    "y"
   ]
  },
  {
   "cell_type": "markdown",
   "metadata": {
    "id": "Kh_VeKwINSqS"
   },
   "source": [
    "Once you have two arrays of the same length, you can compute the **correlation coefficient** between x and y"
   ]
  },
  {
   "cell_type": "code",
   "execution_count": null,
   "metadata": {
    "id": "yrtC6rPkNSDC"
   },
   "outputs": [],
   "source": [
    "r ="
   ]
  },
  {
   "cell_type": "code",
   "execution_count": 38,
   "metadata": {
    "tags": []
   },
   "outputs": [
    {
     "name": "stdout",
     "output_type": "stream",
     "text": [
      "r: [[1.         0.34438649]\n",
      " [0.34438649 1.        ]]\n"
     ]
    }
   ],
   "source": [
    "r = np.corrcoef(x, y)\n",
    "print('r:', r)"
   ]
  },
  {
   "cell_type": "markdown",
   "metadata": {
    "id": "vXieLjYiNtPi"
   },
   "source": [
    "## Pandas Correlation Calculation"
   ]
  },
  {
   "cell_type": "markdown",
   "metadata": {
    "id": "z56t0k0qNvkr"
   },
   "source": [
    "Run the code below"
   ]
  },
  {
   "cell_type": "code",
   "execution_count": 39,
   "metadata": {
    "id": "9AVBMJCyNuwb"
   },
   "outputs": [],
   "source": [
    "x = pd.Series(range(10, 20))\n",
    "y = pd.Series([2, 1, 4, 5, 8, 12, 18, 25, 96, 48])"
   ]
  },
  {
   "cell_type": "markdown",
   "metadata": {
    "id": "ZajVXYe2OCih"
   },
   "source": [
    "Call the relevant method  to calculate Pearson's r correlation."
   ]
  },
  {
   "cell_type": "code",
   "execution_count": null,
   "metadata": {
    "id": "Ak_rkzbLOafj"
   },
   "outputs": [],
   "source": [
    "r ="
   ]
  },
  {
   "cell_type": "code",
   "execution_count": 42,
   "metadata": {
    "tags": []
   },
   "outputs": [
    {
     "name": "stdout",
     "output_type": "stream",
     "text": [
      "r: 0.7586402890911867\n"
     ]
    }
   ],
   "source": [
    "r = x.corr(y)\n",
    "print('r:', r)"
   ]
  },
  {
   "cell_type": "markdown",
   "metadata": {
    "id": "we7pg7kdOo7y"
   },
   "source": [
    "## Seaborn Dataset Tips"
   ]
  },
  {
   "cell_type": "markdown",
   "metadata": {
    "id": "VlzgFKN7OvqX"
   },
   "source": [
    "Import Seaborn Library"
   ]
  },
  {
   "cell_type": "code",
   "execution_count": null,
   "metadata": {
    "id": "t-49JRRqO4pw"
   },
   "outputs": [],
   "source": [
    "import"
   ]
  },
  {
   "cell_type": "code",
   "execution_count": 43,
   "metadata": {
    "tags": []
   },
   "outputs": [],
   "source": [
    "import seaborn as sns"
   ]
  },
  {
   "cell_type": "markdown",
   "metadata": {
    "id": "0INVBB4tO4y4"
   },
   "source": [
    "Load \"tips\" dataset from Seaborn"
   ]
  },
  {
   "cell_type": "code",
   "execution_count": 44,
   "metadata": {
    "id": "kieLvcM1PBv7"
   },
   "outputs": [],
   "source": [
    "tips = sns.load_dataset(\"tips\")"
   ]
  },
  {
   "cell_type": "markdown",
   "metadata": {
    "id": "o2ISqVQrPh5S"
   },
   "source": [
    "Generate descriptive statistics include those that summarize the central tendency, dispersion"
   ]
  },
  {
   "cell_type": "code",
   "execution_count": 47,
   "metadata": {
    "id": "FyFvmdbJPVg6"
   },
   "outputs": [
    {
     "data": {
      "text/html": [
       "<div>\n",
       "<style scoped>\n",
       "    .dataframe tbody tr th:only-of-type {\n",
       "        vertical-align: middle;\n",
       "    }\n",
       "\n",
       "    .dataframe tbody tr th {\n",
       "        vertical-align: top;\n",
       "    }\n",
       "\n",
       "    .dataframe thead th {\n",
       "        text-align: right;\n",
       "    }\n",
       "</style>\n",
       "<table border=\"1\" class=\"dataframe\">\n",
       "  <thead>\n",
       "    <tr style=\"text-align: right;\">\n",
       "      <th></th>\n",
       "      <th>total_bill</th>\n",
       "      <th>tip</th>\n",
       "      <th>size</th>\n",
       "    </tr>\n",
       "  </thead>\n",
       "  <tbody>\n",
       "    <tr>\n",
       "      <th>count</th>\n",
       "      <td>244.000000</td>\n",
       "      <td>244.000000</td>\n",
       "      <td>244.000000</td>\n",
       "    </tr>\n",
       "    <tr>\n",
       "      <th>mean</th>\n",
       "      <td>19.785943</td>\n",
       "      <td>2.998279</td>\n",
       "      <td>2.569672</td>\n",
       "    </tr>\n",
       "    <tr>\n",
       "      <th>std</th>\n",
       "      <td>8.902412</td>\n",
       "      <td>1.383638</td>\n",
       "      <td>0.951100</td>\n",
       "    </tr>\n",
       "    <tr>\n",
       "      <th>min</th>\n",
       "      <td>3.070000</td>\n",
       "      <td>1.000000</td>\n",
       "      <td>1.000000</td>\n",
       "    </tr>\n",
       "    <tr>\n",
       "      <th>25%</th>\n",
       "      <td>13.347500</td>\n",
       "      <td>2.000000</td>\n",
       "      <td>2.000000</td>\n",
       "    </tr>\n",
       "    <tr>\n",
       "      <th>50%</th>\n",
       "      <td>17.795000</td>\n",
       "      <td>2.900000</td>\n",
       "      <td>2.000000</td>\n",
       "    </tr>\n",
       "    <tr>\n",
       "      <th>75%</th>\n",
       "      <td>24.127500</td>\n",
       "      <td>3.562500</td>\n",
       "      <td>3.000000</td>\n",
       "    </tr>\n",
       "    <tr>\n",
       "      <th>max</th>\n",
       "      <td>50.810000</td>\n",
       "      <td>10.000000</td>\n",
       "      <td>6.000000</td>\n",
       "    </tr>\n",
       "  </tbody>\n",
       "</table>\n",
       "</div>"
      ],
      "text/plain": [
       "       total_bill         tip        size\n",
       "count  244.000000  244.000000  244.000000\n",
       "mean    19.785943    2.998279    2.569672\n",
       "std      8.902412    1.383638    0.951100\n",
       "min      3.070000    1.000000    1.000000\n",
       "25%     13.347500    2.000000    2.000000\n",
       "50%     17.795000    2.900000    2.000000\n",
       "75%     24.127500    3.562500    3.000000\n",
       "max     50.810000   10.000000    6.000000"
      ]
     },
     "execution_count": 47,
     "metadata": {},
     "output_type": "execute_result"
    }
   ],
   "source": [
    "tips.describe()"
   ]
  },
  {
   "cell_type": "markdown",
   "metadata": {
    "id": "3yCRK4VJPzRo"
   },
   "source": [
    "Call the relevant method to calculate pairwise Pearson's r correlation of columns (plus heatmap)"
   ]
  },
  {
   "cell_type": "code",
   "execution_count": 49,
   "metadata": {
    "id": "qwvGzDU8PGnM"
   },
   "outputs": [
    {
     "data": {
      "text/plain": [
       "0.48929877523035786"
      ]
     },
     "execution_count": 49,
     "metadata": {},
     "output_type": "execute_result"
    }
   ],
   "source": [
    "tips[\"tip\"].corr(tips[\"size\"])"
   ]
  },
  {
   "cell_type": "code",
   "execution_count": 50,
   "metadata": {
    "tags": []
   },
   "outputs": [
    {
     "data": {
      "image/png": "[encoded data removed]",
      "text/plain": [
       "<Figure size 640x480 with 2 Axes>"
      ]
     },
     "metadata": {},
     "output_type": "display_data"
    }
   ],
   "source": [
    "sns.heatmap(tips.corr(numeric_only=True), annot=True);"
   ]
  }
 ],
 "metadata": {
  "colab": {
   "provenance": [
    {
     "file_id": "1NihFmj5fXnOfFmkXZuXUCuLWm0FzSGUk",
     "timestamp": 1682153468661
    }
   ]
  },
  "kernelspec": {
   "display_name": "Python 3 (ipykernel)",
   "language": "python",
   "name": "python3"
  },
  "language_info": {
   "codemirror_mode": {
    "name": "ipython",
    "version": 3
   },
   "file_extension": ".py",
   "mimetype": "text/x-python",
   "name": "python",
   "nbconvert_exporter": "python",
   "pygments_lexer": "ipython3",
   "version": "3.11.5"
  }
 },
 "nbformat": 4,
 "nbformat_minor": 4
}
