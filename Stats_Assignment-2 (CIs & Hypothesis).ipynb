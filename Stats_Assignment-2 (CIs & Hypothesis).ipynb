{
 "cells": [
  {
   "cell_type": "markdown",
   "id": "e1a1d35f-38f0-427a-994a-858f9d8cd495",
   "metadata": {
    "tags": []
   },
   "source": [
    "# Statistics Assignment-2 (CIs & Hypothesis) (DS-DE 08 TR)"
   ]
  },
  {
   "cell_type": "markdown",
   "id": "cc60931d-33eb-40b5-a73d-04b3a7c92c3d",
   "metadata": {},
   "source": [
    "## CONFIDENCE INTERVALS"
   ]
  },
  {
   "cell_type": "markdown",
   "id": "928b63fb-1670-492c-a67a-467c2989b954",
   "metadata": {},
   "source": [
    "### EXERCISE 1. What is the normal body temperature for healthy humans? A random sample of 130 healthy human body temperatures provided by Allen Shoemaker yielded 98.25 degrees and standard deviation 0.73 degrees. \n",
    "\n",
    "### Give a 99% confidence interval for the average body temperature of healthy people."
   ]
  },
  {
   "cell_type": "code",
   "execution_count": null,
   "id": "80c50c2a-0297-4fc1-9c8b-2f72b669a5fa",
   "metadata": {},
   "outputs": [],
   "source": []
  },
  {
   "cell_type": "code",
   "execution_count": null,
   "id": "0d05b7b3-ed54-45da-a577-cc214dd4f566",
   "metadata": {},
   "outputs": [],
   "source": []
  },
  {
   "cell_type": "code",
   "execution_count": null,
   "id": "38b0e86b-898c-4aef-806c-d65f85578d34",
   "metadata": {},
   "outputs": [],
   "source": []
  },
  {
   "cell_type": "code",
   "execution_count": null,
   "id": "181482da-1de5-47d4-a5dc-f8d77f1030df",
   "metadata": {},
   "outputs": [],
   "source": []
  },
  {
   "cell_type": "code",
   "execution_count": null,
   "id": "3e06663a-5b07-49fe-aa7b-1f4261dc92c3",
   "metadata": {},
   "outputs": [],
   "source": []
  },
  {
   "cell_type": "code",
   "execution_count": null,
   "id": "1db5f0d3-6dbc-42be-939a-0aefdf586410",
   "metadata": {},
   "outputs": [],
   "source": []
  },
  {
   "cell_type": "code",
   "execution_count": null,
   "id": "19da24b9-a83d-4dbc-94db-e6e5e5c6ce81",
   "metadata": {},
   "outputs": [],
   "source": []
  },
  {
   "cell_type": "code",
   "execution_count": null,
   "id": "e95f5178-0680-473d-9ba7-46945f77bb7b",
   "metadata": {},
   "outputs": [],
   "source": []
  },
  {
   "cell_type": "code",
   "execution_count": null,
   "id": "74ce2e63-a7fa-4922-9783-4602ad80ade7",
   "metadata": {},
   "outputs": [],
   "source": []
  }
 ],
 "metadata": {
  "kernelspec": {
   "display_name": "Python 3 (ipykernel)",
   "language": "python",
   "name": "python3"
  },
  "language_info": {
   "codemirror_mode": {
    "name": "ipython",
    "version": 3
   },
   "file_extension": ".py",
   "mimetype": "text/x-python",
   "name": "python",
   "nbconvert_exporter": "python",
   "pygments_lexer": "ipython3",
   "version": "3.11.5"
  }
 },
 "nbformat": 4,
 "nbformat_minor": 5
}
